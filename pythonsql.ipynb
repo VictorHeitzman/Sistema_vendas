{
 "cells": [
  {
   "cell_type": "code",
   "execution_count": 1,
   "metadata": {},
   "outputs": [],
   "source": [
    "import sqlite3\n",
    "\n",
    "conexao = sqlite3.connect('BD/projeto_compras.db')\n",
    "cursor = conexao.cursor()"
   ]
  },
  {
   "cell_type": "code",
   "execution_count": null,
   "metadata": {},
   "outputs": [],
   "source": [
    "cursor.close()"
   ]
  },
  {
   "cell_type": "code",
   "execution_count": null,
   "metadata": {},
   "outputs": [],
   "source": [
    "cursor.execute('CREATE TABLE pessoas(nome text,idade integer, email text)')\n",
    "\n",
    "cursor.execute('INSERT INTO pessoas VALUES (\"Maria\",40,\"Maria@gmail.com\")')\n",
    "\n",
    "conexao.commit()"
   ]
  },
  {
   "cell_type": "code",
   "execution_count": null,
   "metadata": {},
   "outputs": [],
   "source": [
    "cursor.execute('SELECT * FROM usuarios')\n",
    "\n",
    "print(cursor.fetchall())"
   ]
  },
  {
   "cell_type": "code",
   "execution_count": 12,
   "metadata": {},
   "outputs": [],
   "source": [
    "cursor.execute('DELETE FROM usuarios WHERE id = ?',(5,))\n",
    "conexao.commit()"
   ]
  },
  {
   "cell_type": "code",
   "execution_count": null,
   "metadata": {},
   "outputs": [],
   "source": [
    "id = None\n",
    "name = 'noé'\n",
    "senha = 202\n",
    "cursor.execute('INSERT INTO USUARIOS VALUES(?,?,?)',(id,name,senha,))\n",
    "conexao.commit()\n",
    "\n",
    "cursor.execute('SELECT * FROM usuarios')\n",
    "print(cursor.fetchall())\n"
   ]
  },
  {
   "cell_type": "code",
   "execution_count": null,
   "metadata": {},
   "outputs": [],
   "source": [
    "input_login_ = 'Hilda'\n",
    "input_senha_ = 999\n",
    "\n",
    "cursor.execute('SELECT * FROM usuarios\\\n",
    "            WHERE nome = ? AND senha = ?',(input_login_,input_senha_))\n",
    "\n",
    "login = cursor.fetchone()\n",
    "\n",
    "if login:\n",
    "    print(login)\n",
    "else:\n",
    "    print('Not iloc')\n",
    "\n",
    "\n",
    "conexao.close()"
   ]
  },
  {
   "cell_type": "code",
   "execution_count": 12,
   "metadata": {},
   "outputs": [
    {
     "name": "stdout",
     "output_type": "stream",
     "text": [
      "(3, 'Aluno', '123')\n",
      "(1, 'Cledison Santos', '555')\n",
      "(2, 'Hilda', '999')\n",
      "(37, 'fddfgd', 'sdfgfdgd')\n",
      "(7, 'josé', '123')\n",
      "(34, 'maikon', '456765415')\n",
      "(0, 'noé', '9090')\n",
      "(11, 'noé', '9090')\n",
      "(12, 'noé', '9090')\n",
      "(13, 'noé', '9090')\n",
      "(14, 'noé', '9090')\n",
      "(20, 'noé', '303')\n",
      "(21, 'noé', '202')\n",
      "(22, 'noé', '202')\n",
      "(35, 'ola', 'maijon')\n",
      "(10, 'olá', '4567')\n",
      "(28, 'olá ', 'mundo')\n",
      "(29, 'olá ', 'mundo')\n",
      "(30, 'olá ', 'mundo')\n",
      "(31, 'olá ', 'mundo')\n",
      "(32, 'olá ', 'mundo')\n",
      "(33, 'olá ', 'mundo')\n",
      "(8, 'pedro', '123')\n",
      "(36, 'sklskj', 'shokhsks')\n",
      "(9, 'tela', '1234')\n",
      "(6, 'victor', '123')\n",
      "(27, 'victor', 'heitzman')\n"
     ]
    }
   ],
   "source": [
    "lista = cursor.execute('SELECT * FROM usuarios ORDER BY nome ASC')\n",
    "\n",
    "for i in lista:\n",
    "    print(i)\n",
    "\n",
    "\n",
    "\n",
    "\n"
   ]
  }
 ],
 "metadata": {
  "kernelspec": {
   "display_name": "Python 3",
   "language": "python",
   "name": "python3"
  },
  "language_info": {
   "codemirror_mode": {
    "name": "ipython",
    "version": 3
   },
   "file_extension": ".py",
   "mimetype": "text/x-python",
   "name": "python",
   "nbconvert_exporter": "python",
   "pygments_lexer": "ipython3",
   "version": "3.11.3"
  },
  "orig_nbformat": 4
 },
 "nbformat": 4,
 "nbformat_minor": 2
}
