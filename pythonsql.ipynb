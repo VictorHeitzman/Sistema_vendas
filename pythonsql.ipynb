{
 "cells": [
  {
   "cell_type": "code",
   "execution_count": 7,
   "metadata": {},
   "outputs": [],
   "source": [
    "import sqlite3\n",
    "\n",
    "banco = sqlite3.connect('projeto_compras.db')"
   ]
  },
  {
   "cell_type": "code",
   "execution_count": 10,
   "metadata": {},
   "outputs": [],
   "source": [
    "cursor = banco.cursor()"
   ]
  },
  {
   "cell_type": "code",
   "execution_count": null,
   "metadata": {},
   "outputs": [],
   "source": [
    "cursor.execute('CREATE TABLE pessoas(nome text,idade integer, email text)')\n",
    "\n",
    "cursor.execute('INSERT INTO pessoas VALUES (\"Maria\",40,\"Maria@gmail.com\")')\n",
    "\n",
    "banco.commit()"
   ]
  },
  {
   "cell_type": "code",
   "execution_count": 13,
   "metadata": {},
   "outputs": [
    {
     "name": "stdout",
     "output_type": "stream",
     "text": [
      "[(1, 'Cledison Santos', '555'), (2, 'Hilda', '999'), (3, 'Aluno', '123')]\n"
     ]
    }
   ],
   "source": [
    "cursor.execute('SELECT * FROM usuarios')\n",
    "\n",
    "print(cursor.fetchall())"
   ]
  },
  {
   "cell_type": "code",
   "execution_count": 23,
   "metadata": {},
   "outputs": [],
   "source": [
    "import sqlite3 \n",
    "\n",
    "conexao = sqlite3.connect('BD\\projeto_compras.db')\n",
    "cursor = conexao.cursor()\n",
    "\n"
   ]
  },
  {
   "cell_type": "code",
   "execution_count": 25,
   "metadata": {},
   "outputs": [
    {
     "name": "stdout",
     "output_type": "stream",
     "text": [
      "[(0, 'noé', '9090'), (1, 'Cledison Santos', '555'), (2, 'Hilda', '999'), (3, 'Aluno', '123'), (4, 'José', '987'), (5, 'vinicius', '9987'), (6, 'victor', '123'), (7, 'josé', '123'), (8, 'pedro', '123'), (9, 'tela', '1234'), (10, 'olá', '4567'), (11, 'noé', '9090'), (12, 'noé', '9090'), (13, 'noé', '9090'), (14, 'noé', '9090'), (15, 'noé', '9090')]\n"
     ]
    }
   ],
   "source": [
    "valor = \n",
    "\n",
    "cursor.execute(\"\"\"INSERT INTO USUARIOS VALUES(null),?,?)\"\"\"\"),('noé',9090)\n",
    "conexao.commit()\n",
    "\n",
    "cursor.execute('SELECT * FROM usuarios')\n",
    "print(cursor.fetchall())\n",
    "\n",
    "\n",
    "conexao.close()"
   ]
  }
 ],
 "metadata": {
  "kernelspec": {
   "display_name": "Python 3",
   "language": "python",
   "name": "python3"
  },
  "language_info": {
   "codemirror_mode": {
    "name": "ipython",
    "version": 3
   },
   "file_extension": ".py",
   "mimetype": "text/x-python",
   "name": "python",
   "nbconvert_exporter": "python",
   "pygments_lexer": "ipython3",
   "version": "3.11.3"
  },
  "orig_nbformat": 4
 },
 "nbformat": 4,
 "nbformat_minor": 2
}
