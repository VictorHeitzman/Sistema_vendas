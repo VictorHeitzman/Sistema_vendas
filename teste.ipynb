{
 "cells": [
  {
   "cell_type": "code",
   "execution_count": 32,
   "metadata": {},
   "outputs": [
    {
     "data": {
      "text/plain": [
       "[[18616818138132, 'ARROZ', 15.99, 2.9], [18616818138132, 'ARROZ', 15.99]]"
      ]
     },
     "execution_count": 32,
     "metadata": {},
     "output_type": "execute_result"
    }
   ],
   "source": [
    "lista = [(18616818138132, 'ARROZ', 15.99),(18616818138132, 'ARROZ', 15.99)]\n",
    "nova_lista = []\n",
    "for item in lista:\n",
    "    nova_lista.append(list(item))\n",
    "\n",
    "nova_lista[0].append(2.90)\n",
    "\n",
    "nova_lista"
   ]
  }
 ],
 "metadata": {
  "kernelspec": {
   "display_name": "Python 3",
   "language": "python",
   "name": "python3"
  },
  "language_info": {
   "codemirror_mode": {
    "name": "ipython",
    "version": 3
   },
   "file_extension": ".py",
   "mimetype": "text/x-python",
   "name": "python",
   "nbconvert_exporter": "python",
   "pygments_lexer": "ipython3",
   "version": "3.11.3"
  },
  "orig_nbformat": 4
 },
 "nbformat": 4,
 "nbformat_minor": 2
}
